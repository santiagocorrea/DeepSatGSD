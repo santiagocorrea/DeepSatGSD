{
 "cells": [
  {
   "cell_type": "code",
   "execution_count": 1,
   "id": "a28f5bce-5858-4758-8877-2e58155545bb",
   "metadata": {},
   "outputs": [],
   "source": [
    "import pandas as pd\n",
    "import geopandas as gpd\n",
    "import fiona\n",
    "import rasterio\n",
    "from rasterio.mask import mask\n",
    "from rasterio.plot import show\n",
    "from tqdm import tqdm\n",
    "import os\n",
    "tqdm.pandas()"
   ]
  },
  {
   "cell_type": "code",
   "execution_count": 2,
   "id": "1373de41-8b57-4ab4-9555-b6d22ae299be",
   "metadata": {},
   "outputs": [],
   "source": [
    "root_dir = '/gypsum/scratch1/jtaneja/DG/DG_new'\n",
    "df_lst = []"
   ]
  },
  {
   "cell_type": "code",
   "execution_count": 3,
   "id": "b81d2f32-8790-4b07-b388-8bcb70db67b2",
   "metadata": {},
   "outputs": [
    {
     "name": "stderr",
     "output_type": "stream",
     "text": [
      "128it [02:15,  1.06s/it]\n"
     ]
    }
   ],
   "source": [
    "# Traverse the subdirectories and extract the image parameters and file paths\n",
    "for subdir, dirs, files in tqdm(os.walk(root_dir)):\n",
    "    for file in files:\n",
    "        if file.endswith('.shp'):\n",
    "            file_path = os.path.join(subdir, file)\n",
    "            df = gpd.read_file(file_path)\n",
    "            df_lst.append(df)"
   ]
  },
  {
   "cell_type": "code",
   "execution_count": 4,
   "id": "8f02d7c3-4d0a-49bf-88ec-8e8e8cf69029",
   "metadata": {},
   "outputs": [],
   "source": [
    "metadata_df = gpd.GeoDataFrame(pd.concat(df_lst, ignore_index=True, axis=0))"
   ]
  },
  {
   "cell_type": "code",
   "execution_count": 5,
   "id": "0f055f59-1ef0-485e-b55f-9c2a824e713b",
   "metadata": {},
   "outputs": [
    {
     "data": {
      "text/plain": [
       "(21537, 11)"
      ]
     },
     "execution_count": 5,
     "metadata": {},
     "output_type": "execute_result"
    }
   ],
   "source": [
    "metadata_df.shape"
   ]
  },
  {
   "cell_type": "code",
   "execution_count": 6,
   "id": "4fe2f001-093a-4129-a16c-4e57674a42b7",
   "metadata": {},
   "outputs": [
    {
     "data": {
      "text/html": [
       "<div>\n",
       "<style scoped>\n",
       "    .dataframe tbody tr th:only-of-type {\n",
       "        vertical-align: middle;\n",
       "    }\n",
       "\n",
       "    .dataframe tbody tr th {\n",
       "        vertical-align: top;\n",
       "    }\n",
       "\n",
       "    .dataframe thead th {\n",
       "        text-align: right;\n",
       "    }\n",
       "</style>\n",
       "<table border=\"1\" class=\"dataframe\">\n",
       "  <thead>\n",
       "    <tr style=\"text-align: right;\">\n",
       "      <th></th>\n",
       "      <th>FILENAME</th>\n",
       "      <th>CATALOG_ID</th>\n",
       "      <th>ACQ_DATE</th>\n",
       "      <th>ONA</th>\n",
       "      <th>CC</th>\n",
       "      <th>SUNEL</th>\n",
       "      <th>SENSOR</th>\n",
       "      <th>ACCURACY</th>\n",
       "      <th>TILE_TYPE</th>\n",
       "      <th>VERSION</th>\n",
       "      <th>geometry</th>\n",
       "    </tr>\n",
       "  </thead>\n",
       "  <tbody>\n",
       "    <tr>\n",
       "      <th>0</th>\n",
       "      <td>AOP_AF17_Q317_V0_502_309_133_9/AOP_AF17_Q317_V...</td>\n",
       "      <td>1040010007774300</td>\n",
       "      <td>2015-02-02</td>\n",
       "      <td>24.552141</td>\n",
       "      <td>0.0</td>\n",
       "      <td>58.511749</td>\n",
       "      <td>WV03_VNIR</td>\n",
       "      <td>10.2</td>\n",
       "      <td>SVA</td>\n",
       "      <td>AOP-Processing_1.1.8.1</td>\n",
       "      <td>MULTIPOLYGON (((37.88084 4.01177, 37.88084 4.0...</td>\n",
       "    </tr>\n",
       "    <tr>\n",
       "      <th>1</th>\n",
       "      <td>AOP_AF17_Q317_V0_502_309_133_9/AOP_AF17_Q317_V...</td>\n",
       "      <td>1050410001225D00</td>\n",
       "      <td>2011-01-06</td>\n",
       "      <td>12.898581</td>\n",
       "      <td>0.0</td>\n",
       "      <td>54.994518</td>\n",
       "      <td>GE01</td>\n",
       "      <td>10.2</td>\n",
       "      <td>SVA</td>\n",
       "      <td>AOP-Processing_1.1.8.1</td>\n",
       "      <td>POLYGON ((37.80711 4.01204, 37.80713 4.01204, ...</td>\n",
       "    </tr>\n",
       "    <tr>\n",
       "      <th>2</th>\n",
       "      <td>AOP_AF17_Q317_V0_502_309_133_9/AOP_AF17_Q317_V...</td>\n",
       "      <td>1040010007397700</td>\n",
       "      <td>2015-02-02</td>\n",
       "      <td>25.988863</td>\n",
       "      <td>0.0</td>\n",
       "      <td>58.584145</td>\n",
       "      <td>WV03_VNIR</td>\n",
       "      <td>10.2</td>\n",
       "      <td>SVA</td>\n",
       "      <td>AOP-Processing_1.1.8.1</td>\n",
       "      <td>POLYGON ((37.88085 4.04297, 37.88086 4.04297, ...</td>\n",
       "    </tr>\n",
       "    <tr>\n",
       "      <th>3</th>\n",
       "      <td>AOP_AF17_Q317_V0_502_309_133_9/AOP_AF17_Q317_V...</td>\n",
       "      <td>1040010007397700</td>\n",
       "      <td>2015-02-02</td>\n",
       "      <td>25.988863</td>\n",
       "      <td>0.0</td>\n",
       "      <td>58.584145</td>\n",
       "      <td>WV03_VNIR</td>\n",
       "      <td>10.2</td>\n",
       "      <td>SVA</td>\n",
       "      <td>AOP-Processing_1.1.8.1</td>\n",
       "      <td>MULTIPOLYGON (((37.88737 3.98100, 37.88737 3.9...</td>\n",
       "    </tr>\n",
       "    <tr>\n",
       "      <th>4</th>\n",
       "      <td>AOP_AF17_Q317_V0_502_309_133_9/AOP_AF17_Q317_V...</td>\n",
       "      <td>1030010024ABAA00</td>\n",
       "      <td>2013-07-05</td>\n",
       "      <td>11.839989</td>\n",
       "      <td>0.0</td>\n",
       "      <td>63.663494</td>\n",
       "      <td>WV02</td>\n",
       "      <td>10.2</td>\n",
       "      <td>SVA</td>\n",
       "      <td>AOP-Processing_1.1.8.1</td>\n",
       "      <td>MULTIPOLYGON (((37.88110 3.97349, 37.88113 3.9...</td>\n",
       "    </tr>\n",
       "  </tbody>\n",
       "</table>\n",
       "</div>"
      ],
      "text/plain": [
       "                                            FILENAME        CATALOG_ID  \\\n",
       "0  AOP_AF17_Q317_V0_502_309_133_9/AOP_AF17_Q317_V...  1040010007774300   \n",
       "1  AOP_AF17_Q317_V0_502_309_133_9/AOP_AF17_Q317_V...  1050410001225D00   \n",
       "2  AOP_AF17_Q317_V0_502_309_133_9/AOP_AF17_Q317_V...  1040010007397700   \n",
       "3  AOP_AF17_Q317_V0_502_309_133_9/AOP_AF17_Q317_V...  1040010007397700   \n",
       "4  AOP_AF17_Q317_V0_502_309_133_9/AOP_AF17_Q317_V...  1030010024ABAA00   \n",
       "\n",
       "     ACQ_DATE        ONA   CC      SUNEL     SENSOR  ACCURACY TILE_TYPE  \\\n",
       "0  2015-02-02  24.552141  0.0  58.511749  WV03_VNIR      10.2       SVA   \n",
       "1  2011-01-06  12.898581  0.0  54.994518       GE01      10.2       SVA   \n",
       "2  2015-02-02  25.988863  0.0  58.584145  WV03_VNIR      10.2       SVA   \n",
       "3  2015-02-02  25.988863  0.0  58.584145  WV03_VNIR      10.2       SVA   \n",
       "4  2013-07-05  11.839989  0.0  63.663494       WV02      10.2       SVA   \n",
       "\n",
       "                  VERSION                                           geometry  \n",
       "0  AOP-Processing_1.1.8.1  MULTIPOLYGON (((37.88084 4.01177, 37.88084 4.0...  \n",
       "1  AOP-Processing_1.1.8.1  POLYGON ((37.80711 4.01204, 37.80713 4.01204, ...  \n",
       "2  AOP-Processing_1.1.8.1  POLYGON ((37.88085 4.04297, 37.88086 4.04297, ...  \n",
       "3  AOP-Processing_1.1.8.1  MULTIPOLYGON (((37.88737 3.98100, 37.88737 3.9...  \n",
       "4  AOP-Processing_1.1.8.1  MULTIPOLYGON (((37.88110 3.97349, 37.88113 3.9...  "
      ]
     },
     "execution_count": 6,
     "metadata": {},
     "output_type": "execute_result"
    }
   ],
   "source": [
    "metadata_df.head()"
   ]
  },
  {
   "cell_type": "code",
   "execution_count": 7,
   "id": "40c9ef07-0602-48e8-b4e2-8d2e63803074",
   "metadata": {},
   "outputs": [
    {
     "data": {
      "text/plain": [
       "(1280, 11)"
      ]
     },
     "execution_count": 7,
     "metadata": {},
     "output_type": "execute_result"
    }
   ],
   "source": [
    "metadata_df[metadata_df.duplicated(subset=['FILENAME', 'CATALOG_ID', 'ACQ_DATE', 'SENSOR', 'ACCURACY', 'TILE_TYPE', 'VERSION'], keep=False)].shape"
   ]
  },
  {
   "cell_type": "code",
   "execution_count": 8,
   "id": "eea926c7-b114-4504-9f3c-255efdc34444",
   "metadata": {},
   "outputs": [],
   "source": [
    "metadata_df.drop_duplicates(subset=['FILENAME', 'CATALOG_ID', 'ACQ_DATE', 'SENSOR', 'ACCURACY', 'TILE_TYPE', 'VERSION'], keep=False, inplace=True)"
   ]
  },
  {
   "cell_type": "code",
   "execution_count": 9,
   "id": "dff3e7e0-17f8-4143-8b74-18aa8b8c79f8",
   "metadata": {},
   "outputs": [
    {
     "data": {
      "text/plain": [
       "(20257, 11)"
      ]
     },
     "execution_count": 9,
     "metadata": {},
     "output_type": "execute_result"
    }
   ],
   "source": [
    "metadata_df.shape"
   ]
  },
  {
   "cell_type": "code",
   "execution_count": 10,
   "id": "078c3dd6-e793-44a5-b36c-4c291c4e0dc0",
   "metadata": {},
   "outputs": [
    {
     "data": {
      "text/plain": [
       "(0, 11)"
      ]
     },
     "execution_count": 10,
     "metadata": {},
     "output_type": "execute_result"
    }
   ],
   "source": [
    "metadata_df[metadata_df.duplicated(subset=['FILENAME', 'CATALOG_ID', 'ACQ_DATE', 'SENSOR', 'ACCURACY', 'TILE_TYPE', 'VERSION'], keep=False)].shape"
   ]
  },
  {
   "cell_type": "code",
   "execution_count": 11,
   "id": "9d4505be-7860-4d95-8c93-8e840ab71828",
   "metadata": {},
   "outputs": [
    {
     "data": {
      "text/plain": [
       "WV02         11687\n",
       "GE01          5084\n",
       "WV03_VNIR     2376\n",
       "QB02          1110\n",
       "Name: SENSOR, dtype: int64"
      ]
     },
     "execution_count": 11,
     "metadata": {},
     "output_type": "execute_result"
    }
   ],
   "source": [
    "metadata_df['SENSOR'].value_counts()"
   ]
  },
  {
   "cell_type": "code",
   "execution_count": 13,
   "id": "f28737f4-c267-45e9-81e0-c4f041d9f8c0",
   "metadata": {},
   "outputs": [
    {
     "data": {
      "text/plain": [
       "<Geographic 2D CRS: EPSG:4326>\n",
       "Name: WGS 84\n",
       "Axis Info [ellipsoidal]:\n",
       "- Lat[north]: Geodetic latitude (degree)\n",
       "- Lon[east]: Geodetic longitude (degree)\n",
       "Area of Use:\n",
       "- name: World.\n",
       "- bounds: (-180.0, -90.0, 180.0, 90.0)\n",
       "Datum: World Geodetic System 1984 ensemble\n",
       "- Ellipsoid: WGS 84\n",
       "- Prime Meridian: Greenwich"
      ]
     },
     "execution_count": 13,
     "metadata": {},
     "output_type": "execute_result"
    }
   ],
   "source": [
    "metadata_df.crs"
   ]
  },
  {
   "cell_type": "code",
   "execution_count": 12,
   "id": "880b11f8-e55a-4732-a45e-8d0110974fa2",
   "metadata": {},
   "outputs": [],
   "source": [
    "metadata_df.reset_index(inplace=True, drop=True)"
   ]
  },
  {
   "cell_type": "code",
   "execution_count": 15,
   "id": "60c8b481-110a-4a16-b5ee-050aad417293",
   "metadata": {},
   "outputs": [
    {
     "name": "stderr",
     "output_type": "stream",
     "text": [
      "\n",
      "KeyboardInterrupt\n",
      "\n"
     ]
    }
   ],
   "source": [
    "#this takes a while\n",
    "metadata_df.to_file(\"/work/scorreacardo_umass_edu/DeepSatGSD/data/interim/dg_metadata.gpkg\", driver=\"GPKG\")"
   ]
  },
  {
   "cell_type": "code",
   "execution_count": 14,
   "id": "eb5fb6cc-4d4f-4e59-95aa-fc1646181aec",
   "metadata": {},
   "outputs": [
    {
     "data": {
      "text/plain": [
       "FILENAME\n",
       "AOP_AF15_Q217_V0_494_304_133_9/AOP_AF15_Q217_V0_494_304_133_9_R1C1.tif    2\n",
       "AOP_AF15_Q217_V0_494_304_133_9/AOP_AF15_Q217_V0_494_304_133_9_R1C2.tif    1\n",
       "AOP_AF15_Q217_V0_494_304_133_9/AOP_AF15_Q217_V0_494_304_133_9_R1C3.tif    2\n",
       "AOP_AF15_Q217_V0_494_304_133_9/AOP_AF15_Q217_V0_494_304_133_9_R1C4.tif    2\n",
       "AOP_AF15_Q217_V0_494_304_133_9/AOP_AF15_Q217_V0_494_304_133_9_R1C5.tif    2\n",
       "Name: SENSOR, dtype: int64"
      ]
     },
     "execution_count": 14,
     "metadata": {},
     "output_type": "execute_result"
    }
   ],
   "source": [
    "sensor_counts = metadata_df[['FILENAME', 'SENSOR']].groupby('FILENAME')['SENSOR'].nunique()\n",
    "sensor_counts.head()"
   ]
  },
  {
   "cell_type": "code",
   "execution_count": 15,
   "id": "dd52f202-5844-4d28-a707-3010ee7a6cd1",
   "metadata": {},
   "outputs": [
    {
     "data": {
      "text/plain": [
       "pandas.core.series.Series"
      ]
     },
     "execution_count": 15,
     "metadata": {},
     "output_type": "execute_result"
    }
   ],
   "source": [
    "type(sensor_counts)"
   ]
  },
  {
   "cell_type": "code",
   "execution_count": 16,
   "id": "30c39a29-0673-4ad1-8bf3-af1df18e2eb3",
   "metadata": {},
   "outputs": [],
   "source": [
    "sensor_counts = sensor_counts.reset_index()"
   ]
  },
  {
   "cell_type": "code",
   "execution_count": 17,
   "id": "6cd146a4-ccf7-4718-8011-1eb2445e5d4d",
   "metadata": {},
   "outputs": [
    {
     "data": {
      "text/html": [
       "<div>\n",
       "<style scoped>\n",
       "    .dataframe tbody tr th:only-of-type {\n",
       "        vertical-align: middle;\n",
       "    }\n",
       "\n",
       "    .dataframe tbody tr th {\n",
       "        vertical-align: top;\n",
       "    }\n",
       "\n",
       "    .dataframe thead th {\n",
       "        text-align: right;\n",
       "    }\n",
       "</style>\n",
       "<table border=\"1\" class=\"dataframe\">\n",
       "  <thead>\n",
       "    <tr style=\"text-align: right;\">\n",
       "      <th></th>\n",
       "      <th>FILENAME</th>\n",
       "      <th>SENSOR</th>\n",
       "    </tr>\n",
       "  </thead>\n",
       "  <tbody>\n",
       "    <tr>\n",
       "      <th>0</th>\n",
       "      <td>AOP_AF15_Q217_V0_494_304_133_9/AOP_AF15_Q217_V...</td>\n",
       "      <td>2</td>\n",
       "    </tr>\n",
       "    <tr>\n",
       "      <th>1</th>\n",
       "      <td>AOP_AF15_Q217_V0_494_304_133_9/AOP_AF15_Q217_V...</td>\n",
       "      <td>1</td>\n",
       "    </tr>\n",
       "    <tr>\n",
       "      <th>2</th>\n",
       "      <td>AOP_AF15_Q217_V0_494_304_133_9/AOP_AF15_Q217_V...</td>\n",
       "      <td>2</td>\n",
       "    </tr>\n",
       "    <tr>\n",
       "      <th>3</th>\n",
       "      <td>AOP_AF15_Q217_V0_494_304_133_9/AOP_AF15_Q217_V...</td>\n",
       "      <td>2</td>\n",
       "    </tr>\n",
       "    <tr>\n",
       "      <th>4</th>\n",
       "      <td>AOP_AF15_Q217_V0_494_304_133_9/AOP_AF15_Q217_V...</td>\n",
       "      <td>2</td>\n",
       "    </tr>\n",
       "  </tbody>\n",
       "</table>\n",
       "</div>"
      ],
      "text/plain": [
       "                                            FILENAME  SENSOR\n",
       "0  AOP_AF15_Q217_V0_494_304_133_9/AOP_AF15_Q217_V...       2\n",
       "1  AOP_AF15_Q217_V0_494_304_133_9/AOP_AF15_Q217_V...       1\n",
       "2  AOP_AF15_Q217_V0_494_304_133_9/AOP_AF15_Q217_V...       2\n",
       "3  AOP_AF15_Q217_V0_494_304_133_9/AOP_AF15_Q217_V...       2\n",
       "4  AOP_AF15_Q217_V0_494_304_133_9/AOP_AF15_Q217_V...       2"
      ]
     },
     "execution_count": 17,
     "metadata": {},
     "output_type": "execute_result"
    }
   ],
   "source": [
    "sensor_counts.head()"
   ]
  },
  {
   "cell_type": "code",
   "execution_count": 18,
   "id": "7fec91f2-cfe7-4c11-942d-59ceeb18daea",
   "metadata": {},
   "outputs": [
    {
     "data": {
      "text/plain": [
       "1    3775\n",
       "2    3349\n",
       "3     678\n",
       "4      24\n",
       "Name: SENSOR, dtype: int64"
      ]
     },
     "execution_count": 18,
     "metadata": {},
     "output_type": "execute_result"
    }
   ],
   "source": [
    "sensor_counts.SENSOR.value_counts()"
   ]
  },
  {
   "cell_type": "code",
   "execution_count": 19,
   "id": "e8dd9ae4-0f07-4a69-866f-024069ecdb83",
   "metadata": {},
   "outputs": [
    {
     "data": {
      "text/html": [
       "<div>\n",
       "<style scoped>\n",
       "    .dataframe tbody tr th:only-of-type {\n",
       "        vertical-align: middle;\n",
       "    }\n",
       "\n",
       "    .dataframe tbody tr th {\n",
       "        vertical-align: top;\n",
       "    }\n",
       "\n",
       "    .dataframe thead th {\n",
       "        text-align: right;\n",
       "    }\n",
       "</style>\n",
       "<table border=\"1\" class=\"dataframe\">\n",
       "  <thead>\n",
       "    <tr style=\"text-align: right;\">\n",
       "      <th></th>\n",
       "      <th>FILENAME</th>\n",
       "      <th>CATALOG_ID</th>\n",
       "      <th>ACQ_DATE</th>\n",
       "      <th>ONA</th>\n",
       "      <th>CC</th>\n",
       "      <th>SUNEL</th>\n",
       "      <th>SENSOR</th>\n",
       "      <th>ACCURACY</th>\n",
       "      <th>TILE_TYPE</th>\n",
       "      <th>VERSION</th>\n",
       "      <th>geometry</th>\n",
       "    </tr>\n",
       "  </thead>\n",
       "  <tbody>\n",
       "    <tr>\n",
       "      <th>0</th>\n",
       "      <td>AOP_AF20_Q417_V0_508_306_129_9/AOP_AF20_Q417_V...</td>\n",
       "      <td>1050010007C10D00</td>\n",
       "      <td>2017-01-12</td>\n",
       "      <td>2.535889</td>\n",
       "      <td>0.000000</td>\n",
       "      <td>57.409065</td>\n",
       "      <td>GE01</td>\n",
       "      <td>10.2</td>\n",
       "      <td>SVA</td>\n",
       "      <td>AOP-Processing_1.1.8.1</td>\n",
       "      <td>POLYGON ((35.27057 1.05893, 35.27057 1.05894, ...</td>\n",
       "    </tr>\n",
       "    <tr>\n",
       "      <th>1</th>\n",
       "      <td>AOP_AF20_Q417_V0_508_306_129_9/AOP_AF20_Q417_V...</td>\n",
       "      <td>1030010007832C00</td>\n",
       "      <td>2010-10-01</td>\n",
       "      <td>15.752147</td>\n",
       "      <td>72.842246</td>\n",
       "      <td>71.755409</td>\n",
       "      <td>WV02</td>\n",
       "      <td>10.2</td>\n",
       "      <td>SVA</td>\n",
       "      <td>AOP-Processing_1.1.8.1</td>\n",
       "      <td>POLYGON ((35.24414 1.14258, 35.26766 1.14258, ...</td>\n",
       "    </tr>\n",
       "    <tr>\n",
       "      <th>2</th>\n",
       "      <td>AOP_AF20_Q417_V0_508_306_129_9/AOP_AF20_Q417_V...</td>\n",
       "      <td>104001002D437900</td>\n",
       "      <td>2017-06-10</td>\n",
       "      <td>18.950382</td>\n",
       "      <td>3.148776</td>\n",
       "      <td>61.670254</td>\n",
       "      <td>WV03_VNIR</td>\n",
       "      <td>10.2</td>\n",
       "      <td>SVA</td>\n",
       "      <td>AOP-Processing_1.1.8.1</td>\n",
       "      <td>POLYGON ((35.33203 1.14257, 35.33203 1.14257, ...</td>\n",
       "    </tr>\n",
       "    <tr>\n",
       "      <th>3</th>\n",
       "      <td>AOP_AF20_Q417_V0_508_306_129_9/AOP_AF20_Q417_V...</td>\n",
       "      <td>101001000E9AA900</td>\n",
       "      <td>2011-12-13</td>\n",
       "      <td>11.700283</td>\n",
       "      <td>4.579706</td>\n",
       "      <td>52.611244</td>\n",
       "      <td>QB02</td>\n",
       "      <td>25.4</td>\n",
       "      <td>SVA</td>\n",
       "      <td>AOP-Processing_1.1.8.1</td>\n",
       "      <td>MULTIPOLYGON (((35.30076 1.14227, 35.30076 1.1...</td>\n",
       "    </tr>\n",
       "    <tr>\n",
       "      <th>4</th>\n",
       "      <td>AOP_AF20_Q417_V0_508_306_129_9/AOP_AF20_Q417_V...</td>\n",
       "      <td>101001000CEC7500</td>\n",
       "      <td>2011-01-30</td>\n",
       "      <td>17.573339</td>\n",
       "      <td>3.329182</td>\n",
       "      <td>54.151550</td>\n",
       "      <td>QB02</td>\n",
       "      <td>25.4</td>\n",
       "      <td>SVA</td>\n",
       "      <td>AOP-Processing_1.1.8.1</td>\n",
       "      <td>POLYGON ((35.30067 1.14254, 35.30067 1.14251, ...</td>\n",
       "    </tr>\n",
       "  </tbody>\n",
       "</table>\n",
       "</div>"
      ],
      "text/plain": [
       "                                            FILENAME        CATALOG_ID  \\\n",
       "0  AOP_AF20_Q417_V0_508_306_129_9/AOP_AF20_Q417_V...  1050010007C10D00   \n",
       "1  AOP_AF20_Q417_V0_508_306_129_9/AOP_AF20_Q417_V...  1030010007832C00   \n",
       "2  AOP_AF20_Q417_V0_508_306_129_9/AOP_AF20_Q417_V...  104001002D437900   \n",
       "3  AOP_AF20_Q417_V0_508_306_129_9/AOP_AF20_Q417_V...  101001000E9AA900   \n",
       "4  AOP_AF20_Q417_V0_508_306_129_9/AOP_AF20_Q417_V...  101001000CEC7500   \n",
       "\n",
       "     ACQ_DATE        ONA         CC      SUNEL     SENSOR  ACCURACY TILE_TYPE  \\\n",
       "0  2017-01-12   2.535889   0.000000  57.409065       GE01      10.2       SVA   \n",
       "1  2010-10-01  15.752147  72.842246  71.755409       WV02      10.2       SVA   \n",
       "2  2017-06-10  18.950382   3.148776  61.670254  WV03_VNIR      10.2       SVA   \n",
       "3  2011-12-13  11.700283   4.579706  52.611244       QB02      25.4       SVA   \n",
       "4  2011-01-30  17.573339   3.329182  54.151550       QB02      25.4       SVA   \n",
       "\n",
       "                  VERSION                                           geometry  \n",
       "0  AOP-Processing_1.1.8.1  POLYGON ((35.27057 1.05893, 35.27057 1.05894, ...  \n",
       "1  AOP-Processing_1.1.8.1  POLYGON ((35.24414 1.14258, 35.26766 1.14258, ...  \n",
       "2  AOP-Processing_1.1.8.1  POLYGON ((35.33203 1.14257, 35.33203 1.14257, ...  \n",
       "3  AOP-Processing_1.1.8.1  MULTIPOLYGON (((35.30076 1.14227, 35.30076 1.1...  \n",
       "4  AOP-Processing_1.1.8.1  POLYGON ((35.30067 1.14254, 35.30067 1.14251, ...  "
      ]
     },
     "execution_count": 19,
     "metadata": {},
     "output_type": "execute_result"
    }
   ],
   "source": [
    "#let's take a look at the images with 4 sensors captures:\n",
    "meta_4_sensors = metadata_df[metadata_df['FILENAME'].isin(sensor_counts[sensor_counts['SENSOR'] == 4]['FILENAME'].tolist())]\n",
    "meta_4_sensors.reset_index(inplace=True, drop=True)\n",
    "meta_4_sensors.head()"
   ]
  },
  {
   "cell_type": "code",
   "execution_count": 29,
   "id": "d8175c55-0b9a-4405-9896-9f32618c08ea",
   "metadata": {},
   "outputs": [
    {
     "data": {
      "text/plain": [
       "(122, 11)"
      ]
     },
     "execution_count": 29,
     "metadata": {},
     "output_type": "execute_result"
    }
   ],
   "source": [
    "meta_4_sensors.shape"
   ]
  },
  {
   "cell_type": "code",
   "execution_count": 20,
   "id": "707a0b7a-ffa4-4a52-b8f6-f5db4ffb4f63",
   "metadata": {},
   "outputs": [],
   "source": [
    "meta_4_sensors.to_file(\"/work/scorreacardo_umass_edu/DeepSatGSD/data/interim/dg_metadata_sensorcount4.gpkg\", driver=\"GPKG\")"
   ]
  },
  {
   "cell_type": "code",
   "execution_count": 21,
   "id": "e8c16a0a-0d94-466b-8d73-e9a2dbacafbf",
   "metadata": {},
   "outputs": [
    {
     "data": {
      "text/html": [
       "<div>\n",
       "<style scoped>\n",
       "    .dataframe tbody tr th:only-of-type {\n",
       "        vertical-align: middle;\n",
       "    }\n",
       "\n",
       "    .dataframe tbody tr th {\n",
       "        vertical-align: top;\n",
       "    }\n",
       "\n",
       "    .dataframe thead th {\n",
       "        text-align: right;\n",
       "    }\n",
       "</style>\n",
       "<table border=\"1\" class=\"dataframe\">\n",
       "  <thead>\n",
       "    <tr style=\"text-align: right;\">\n",
       "      <th></th>\n",
       "      <th>FILENAME</th>\n",
       "      <th>CATALOG_ID</th>\n",
       "      <th>ACQ_DATE</th>\n",
       "      <th>ONA</th>\n",
       "      <th>CC</th>\n",
       "      <th>SUNEL</th>\n",
       "      <th>SENSOR</th>\n",
       "      <th>ACCURACY</th>\n",
       "      <th>TILE_TYPE</th>\n",
       "      <th>VERSION</th>\n",
       "      <th>geometry</th>\n",
       "    </tr>\n",
       "  </thead>\n",
       "  <tbody>\n",
       "    <tr>\n",
       "      <th>0</th>\n",
       "      <td>AOP_AF17_Q317_V0_502_309_133_9/AOP_AF17_Q317_V...</td>\n",
       "      <td>1040010007397700</td>\n",
       "      <td>2015-02-02</td>\n",
       "      <td>25.988863</td>\n",
       "      <td>0.0</td>\n",
       "      <td>58.584145</td>\n",
       "      <td>WV03_VNIR</td>\n",
       "      <td>10.2</td>\n",
       "      <td>SVA</td>\n",
       "      <td>AOP-Processing_1.1.8.1</td>\n",
       "      <td>MULTIPOLYGON (((37.88737 3.98100, 37.88737 3.9...</td>\n",
       "    </tr>\n",
       "    <tr>\n",
       "      <th>1</th>\n",
       "      <td>AOP_AF17_Q317_V0_502_309_133_9/AOP_AF17_Q317_V...</td>\n",
       "      <td>1030010024ABAA00</td>\n",
       "      <td>2013-07-05</td>\n",
       "      <td>11.839989</td>\n",
       "      <td>0.0</td>\n",
       "      <td>63.663494</td>\n",
       "      <td>WV02</td>\n",
       "      <td>10.2</td>\n",
       "      <td>SVA</td>\n",
       "      <td>AOP-Processing_1.1.8.1</td>\n",
       "      <td>MULTIPOLYGON (((37.88110 3.97349, 37.88113 3.9...</td>\n",
       "    </tr>\n",
       "    <tr>\n",
       "      <th>2</th>\n",
       "      <td>AOP_AF17_Q317_V0_502_309_133_9/AOP_AF17_Q317_V...</td>\n",
       "      <td>1050410001225D00</td>\n",
       "      <td>2011-01-06</td>\n",
       "      <td>12.898581</td>\n",
       "      <td>0.0</td>\n",
       "      <td>54.994518</td>\n",
       "      <td>GE01</td>\n",
       "      <td>10.2</td>\n",
       "      <td>SVA</td>\n",
       "      <td>AOP-Processing_1.1.8.1</td>\n",
       "      <td>POLYGON ((37.88353 3.97415, 37.88353 3.97414, ...</td>\n",
       "    </tr>\n",
       "    <tr>\n",
       "      <th>3</th>\n",
       "      <td>AOP_AF17_Q317_V0_502_309_133_9/AOP_AF17_Q317_V...</td>\n",
       "      <td>1050410001225D00</td>\n",
       "      <td>2011-01-06</td>\n",
       "      <td>15.757914</td>\n",
       "      <td>0.0</td>\n",
       "      <td>54.778412</td>\n",
       "      <td>GE01</td>\n",
       "      <td>10.2</td>\n",
       "      <td>SVA</td>\n",
       "      <td>AOP-Processing_1.1.8.1</td>\n",
       "      <td>POLYGON ((37.44956 3.95508, 37.44141 3.95508, ...</td>\n",
       "    </tr>\n",
       "    <tr>\n",
       "      <th>4</th>\n",
       "      <td>AOP_AF17_Q317_V0_502_309_133_9/AOP_AF17_Q317_V...</td>\n",
       "      <td>104001002AD43900</td>\n",
       "      <td>2017-03-21</td>\n",
       "      <td>18.025932</td>\n",
       "      <td>0.0</td>\n",
       "      <td>70.076830</td>\n",
       "      <td>WV03_VNIR</td>\n",
       "      <td>10.2</td>\n",
       "      <td>SVA</td>\n",
       "      <td>AOP-Processing_1.1.8.1</td>\n",
       "      <td>POLYGON ((37.44944 4.04297, 37.52929 4.04297, ...</td>\n",
       "    </tr>\n",
       "  </tbody>\n",
       "</table>\n",
       "</div>"
      ],
      "text/plain": [
       "                                            FILENAME        CATALOG_ID  \\\n",
       "0  AOP_AF17_Q317_V0_502_309_133_9/AOP_AF17_Q317_V...  1040010007397700   \n",
       "1  AOP_AF17_Q317_V0_502_309_133_9/AOP_AF17_Q317_V...  1030010024ABAA00   \n",
       "2  AOP_AF17_Q317_V0_502_309_133_9/AOP_AF17_Q317_V...  1050410001225D00   \n",
       "3  AOP_AF17_Q317_V0_502_309_133_9/AOP_AF17_Q317_V...  1050410001225D00   \n",
       "4  AOP_AF17_Q317_V0_502_309_133_9/AOP_AF17_Q317_V...  104001002AD43900   \n",
       "\n",
       "     ACQ_DATE        ONA   CC      SUNEL     SENSOR  ACCURACY TILE_TYPE  \\\n",
       "0  2015-02-02  25.988863  0.0  58.584145  WV03_VNIR      10.2       SVA   \n",
       "1  2013-07-05  11.839989  0.0  63.663494       WV02      10.2       SVA   \n",
       "2  2011-01-06  12.898581  0.0  54.994518       GE01      10.2       SVA   \n",
       "3  2011-01-06  15.757914  0.0  54.778412       GE01      10.2       SVA   \n",
       "4  2017-03-21  18.025932  0.0  70.076830  WV03_VNIR      10.2       SVA   \n",
       "\n",
       "                  VERSION                                           geometry  \n",
       "0  AOP-Processing_1.1.8.1  MULTIPOLYGON (((37.88737 3.98100, 37.88737 3.9...  \n",
       "1  AOP-Processing_1.1.8.1  MULTIPOLYGON (((37.88110 3.97349, 37.88113 3.9...  \n",
       "2  AOP-Processing_1.1.8.1  POLYGON ((37.88353 3.97415, 37.88353 3.97414, ...  \n",
       "3  AOP-Processing_1.1.8.1  POLYGON ((37.44956 3.95508, 37.44141 3.95508, ...  \n",
       "4  AOP-Processing_1.1.8.1  POLYGON ((37.44944 4.04297, 37.52929 4.04297, ...  "
      ]
     },
     "execution_count": 21,
     "metadata": {},
     "output_type": "execute_result"
    }
   ],
   "source": [
    "#let's take a look at the images with 4 sensors captures:\n",
    "meta_3_sensors = metadata_df[metadata_df['FILENAME'].isin(sensor_counts[sensor_counts['SENSOR'] == 3]['FILENAME'].tolist())]\n",
    "meta_3_sensors.reset_index(inplace=True, drop=True)\n",
    "meta_3_sensors.head()"
   ]
  },
  {
   "cell_type": "code",
   "execution_count": 22,
   "id": "0b495b9c-bc15-40f0-9e14-457b0d9c95d1",
   "metadata": {},
   "outputs": [
    {
     "data": {
      "text/plain": [
       "(2729, 11)"
      ]
     },
     "execution_count": 22,
     "metadata": {},
     "output_type": "execute_result"
    }
   ],
   "source": [
    "meta_3_sensors.shape"
   ]
  },
  {
   "cell_type": "code",
   "execution_count": 24,
   "id": "96e3ef26-9296-4e2f-aee6-23decf716d50",
   "metadata": {},
   "outputs": [],
   "source": [
    "meta_3_sensors.to_file(\"/work/scorreacardo_umass_edu/DeepSatGSD/data/interim/dg_metadata_sensorcount3.gpkg\", driver=\"GPKG\")"
   ]
  },
  {
   "cell_type": "code",
   "execution_count": 25,
   "id": "3757b430-7361-4023-8c11-c1699607f1d9",
   "metadata": {},
   "outputs": [
    {
     "name": "stderr",
     "output_type": "stream",
     "text": [
      "122it [11:23,  5.60s/it]\n"
     ]
    }
   ],
   "source": [
    "output_dir = \"/work/scorreacardo_umass_edu/DeepSatGSD/data/interim\"\n",
    "input_dir = \"/gypsum/scratch1/jtaneja/DG/DG_new\"\n",
    "\n",
    "# Loop through the DataFrame rows\n",
    "for index, row in tqdm(meta_4_sensors.iterrows()):\n",
    "    # Extract the file name, geometry, and sensor\n",
    "    filename = row['FILENAME']\n",
    "    geometry = row['geometry']\n",
    "    sensor = row['SENSOR']\n",
    "    date = row['ACQ_DATE']\n",
    "\n",
    "    # Load the TIFF file\n",
    "    with rasterio.open(os.path.join(input_dir, filename)) as src:\n",
    "        # Mask the TIFF file based on the geometry\n",
    "        masked_data, masked_transform = mask(src, [geometry], crop=True)\n",
    "        masked_meta = src.meta\n",
    "\n",
    "    # Set the output file path\n",
    "    output_subdir = os.path.join(output_dir, sensor)\n",
    "    os.makedirs(output_subdir, exist_ok=True)\n",
    "    output_filename = os.path.join(output_subdir, os.path.basename(filename)[:-4] + f\"_{str(date)}\" + f\"_{sensor}\" +\".tif\")\n",
    "\n",
    "    # Update the metadata for the masked TIFF\n",
    "    masked_meta.update({\n",
    "        'transform': masked_transform,\n",
    "        'height': masked_data.shape[1],\n",
    "        'width': masked_data.shape[2]\n",
    "    })\n",
    "\n",
    "    # Save the masked TIFF file\n",
    "    with rasterio.open(output_filename, 'w', **masked_meta) as dst:\n",
    "        dst.write(masked_data)"
   ]
  },
  {
   "cell_type": "code",
   "execution_count": null,
   "id": "392fd0dd-4120-461c-9467-16ebe3ba2f2e",
   "metadata": {},
   "outputs": [],
   "source": []
  }
 ],
 "metadata": {
  "kernelspec": {
   "display_name": "urbano2",
   "language": "python",
   "name": "urbano2"
  },
  "language_info": {
   "codemirror_mode": {
    "name": "ipython",
    "version": 3
   },
   "file_extension": ".py",
   "mimetype": "text/x-python",
   "name": "python",
   "nbconvert_exporter": "python",
   "pygments_lexer": "ipython3",
   "version": "3.9.12"
  }
 },
 "nbformat": 4,
 "nbformat_minor": 5
}
