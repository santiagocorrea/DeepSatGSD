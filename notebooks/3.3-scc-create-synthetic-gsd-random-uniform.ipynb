{
 "cells": [
  {
   "cell_type": "code",
   "execution_count": 27,
   "id": "31a18db7-eb90-4eaf-93b3-33007e401e05",
   "metadata": {},
   "outputs": [],
   "source": [
    "import numpy as np\n",
    "import rasterio\n",
    "from rasterio.enums import Resampling\n",
    "from skimage.transform import resize\n",
    "import matplotlib.pyplot as plt\n",
    "import os\n",
    "import shutil\n",
    "import pdb\n",
    "from tqdm import tqdm\n",
    "import random\n",
    "import tifffile\n",
    "tqdm.pandas()"
   ]
  },
  {
   "cell_type": "code",
   "execution_count": 20,
   "id": "4c9a32b2-62a6-4baf-8047-db6f04541841",
   "metadata": {},
   "outputs": [
    {
     "name": "stderr",
     "output_type": "stream",
     "text": [
      "100%|██████████| 9053/9053 [01:00<00:00, 148.66it/s]\n",
      "100%|██████████| 10271/10271 [01:12<00:00, 141.51it/s]\n",
      "100%|██████████| 3369/3369 [00:17<00:00, 188.01it/s]\n",
      "100%|██████████| 9461/9461 [01:15<00:00, 125.65it/s]\n",
      "100%|██████████| 11974/11974 [01:51<00:00, 107.41it/s]\n",
      "100%|██████████| 9132/9132 [01:13<00:00, 123.90it/s]\n",
      "100%|██████████| 11614/11614 [01:34<00:00, 122.93it/s]\n",
      "100%|██████████| 10570/10570 [01:40<00:00, 104.69it/s]\n",
      "100%|██████████| 26836/26836 [04:12<00:00, 106.49it/s]\n",
      "100%|██████████| 30980/30980 [05:07<00:00, 100.79it/s]\n",
      "100%|██████████| 14405/14405 [02:18<00:00, 104.33it/s]\n",
      "100%|██████████| 33654/33654 [05:26<00:00, 103.20it/s]\n",
      "100%|██████████| 19556/19556 [03:01<00:00, 107.80it/s]\n",
      "100%|██████████| 12747/12747 [02:08<00:00, 99.53it/s] \n",
      "100%|██████████| 18095/18095 [02:43<00:00, 110.60it/s]\n",
      "100%|██████████| 18838/18838 [03:05<00:00, 101.73it/s]\n",
      "100%|██████████| 4616/4616 [00:44<00:00, 103.88it/s]\n",
      "100%|██████████| 7809/7809 [01:16<00:00, 102.38it/s]\n",
      "100%|██████████| 9770/9770 [01:28<00:00, 110.45it/s]\n",
      "100%|██████████| 8961/8961 [01:25<00:00, 104.24it/s]\n"
     ]
    }
   ],
   "source": [
    "# Define the paths to the train, validation, and test directories\n",
    "train_dir = '/work/scorreacardo_umass_edu/DeepSatGSD/data/processed/train'\n",
    "validation_dir = '/work/scorreacardo_umass_edu/DeepSatGSD/data/processed/validation'\n",
    "test_dir = '/work/scorreacardo_umass_edu/DeepSatGSD/data/processed/test'\n",
    "random_synthetic_dir = '/work/scorreacardo_umass_edu/DeepSatGSD/data/processed/random_synthetic'\n",
    "\n",
    "# Get the list of subfolder names in the train directory\n",
    "subfolder_names = [f for f in os.listdir(train_dir) if f.startswith('GSD')]\n",
    "\n",
    "# Iterate over the subfolders\n",
    "for subfolder_name in subfolder_names:\n",
    "    subfolder_train_path = os.path.join(train_dir, subfolder_name)\n",
    "    subfolder_validation_path = os.path.join(validation_dir, subfolder_name)\n",
    "    subfolder_test_path = os.path.join(test_dir, subfolder_name)\n",
    "    subfolder_random_synthetic_path = os.path.join(random_synthetic_dir, subfolder_name)\n",
    "\n",
    "    # Create the subfolder in random_synthetic directory if it doesn't exist\n",
    "    os.makedirs(subfolder_random_synthetic_path, exist_ok=True)\n",
    "\n",
    "    # Get the list of files in each subfolder that start with 'row'\n",
    "    train_files = [f for f in os.listdir(subfolder_train_path) if f.startswith('row')]\n",
    "    validation_files = [f for f in os.listdir(subfolder_validation_path) if f.startswith('row')]\n",
    "    test_files = [f for f in os.listdir(subfolder_test_path) if f.startswith('row')]\n",
    "    \n",
    "    train_files_sample = random.sample(train_files, 3000)\n",
    "    validation_files_sample = random.sample(validation_files, 3000)\n",
    "    test_files_sample = random.sample(test_files, 3000)\n",
    "\n",
    "    # Combine and copy the files to random_synthetic subfolder\n",
    "    # for file_name in tqdm(train_files_sample):\n",
    "    #     file_path = os.path.join(subfolder_train_path, file_name)\n",
    "    #     shutil.copy(file_path, subfolder_random_synthetic_path)\n",
    "\n",
    "    for file_name in tqdm(validation_files):\n",
    "        file_path = os.path.join(subfolder_validation_path, file_name)\n",
    "        shutil.copy(file_path, subfolder_random_synthetic_path)\n",
    "\n",
    "    for file_name in tqdm(test_files):\n",
    "        file_path = os.path.join(subfolder_test_path, file_name)\n",
    "        shutil.copy(file_path, subfolder_random_synthetic_path)"
   ]
  },
  {
   "cell_type": "code",
   "execution_count": 50,
   "id": "dbfa6a48-37d6-452d-b13d-637ae65cf07b",
   "metadata": {},
   "outputs": [
    {
     "name": "stdout",
     "output_type": "stream",
     "text": [
      "/work/scorreacardo_umass_edu/DeepSatGSD/data/processed/random_synthetic/GSD_100cm\n"
     ]
    },
    {
     "name": "stderr",
     "output_type": "stream",
     "text": [
      "100%|██████████| 967/967 [01:09<00:00, 13.97it/s]\n"
     ]
    },
    {
     "name": "stdout",
     "output_type": "stream",
     "text": [
      "/work/scorreacardo_umass_edu/DeepSatGSD/data/processed/random_synthetic/GSD_124cm\n"
     ]
    },
    {
     "name": "stderr",
     "output_type": "stream",
     "text": [
      "100%|██████████| 641/641 [00:46<00:00, 13.88it/s]\n"
     ]
    },
    {
     "name": "stdout",
     "output_type": "stream",
     "text": [
      "/work/scorreacardo_umass_edu/DeepSatGSD/data/processed/random_synthetic/GSD_150cm\n"
     ]
    },
    {
     "name": "stderr",
     "output_type": "stream",
     "text": [
      "100%|██████████| 1055/1055 [01:13<00:00, 14.40it/s]\n"
     ]
    },
    {
     "name": "stdout",
     "output_type": "stream",
     "text": [
      "/work/scorreacardo_umass_edu/DeepSatGSD/data/processed/random_synthetic/GSD_175cm\n"
     ]
    },
    {
     "name": "stderr",
     "output_type": "stream",
     "text": [
      "100%|██████████| 1109/1109 [01:16<00:00, 14.57it/s]\n"
     ]
    },
    {
     "name": "stdout",
     "output_type": "stream",
     "text": [
      "/work/scorreacardo_umass_edu/DeepSatGSD/data/processed/random_synthetic/GSD_200cm\n"
     ]
    },
    {
     "name": "stderr",
     "output_type": "stream",
     "text": [
      "100%|██████████| 2594/2594 [03:02<00:00, 14.25it/s]\n"
     ]
    },
    {
     "name": "stdout",
     "output_type": "stream",
     "text": [
      "/work/scorreacardo_umass_edu/DeepSatGSD/data/processed/random_synthetic/GSD_250cm\n"
     ]
    },
    {
     "name": "stderr",
     "output_type": "stream",
     "text": [
      "100%|██████████| 2078/2078 [02:28<00:00, 14.01it/s]\n"
     ]
    },
    {
     "name": "stdout",
     "output_type": "stream",
     "text": [
      "/work/scorreacardo_umass_edu/DeepSatGSD/data/processed/random_synthetic/GSD_300cm\n"
     ]
    },
    {
     "name": "stderr",
     "output_type": "stream",
     "text": [
      "100%|██████████| 1601/1601 [01:54<00:00, 14.03it/s]\n"
     ]
    },
    {
     "name": "stdout",
     "output_type": "stream",
     "text": [
      "/work/scorreacardo_umass_edu/DeepSatGSD/data/processed/random_synthetic/GSD_50cm\n"
     ]
    },
    {
     "name": "stderr",
     "output_type": "stream",
     "text": [
      "100%|██████████| 1846/1846 [02:15<00:00, 13.62it/s]\n"
     ]
    },
    {
     "name": "stdout",
     "output_type": "stream",
     "text": [
      "/work/scorreacardo_umass_edu/DeepSatGSD/data/processed/random_synthetic/GSD_65cm\n"
     ]
    },
    {
     "name": "stderr",
     "output_type": "stream",
     "text": [
      "100%|██████████| 621/621 [00:45<00:00, 13.50it/s]\n"
     ]
    },
    {
     "name": "stdout",
     "output_type": "stream",
     "text": [
      "/work/scorreacardo_umass_edu/DeepSatGSD/data/processed/random_synthetic/GSD_80cm\n"
     ]
    },
    {
     "name": "stderr",
     "output_type": "stream",
     "text": [
      "100%|██████████| 936/936 [01:07<00:00, 13.79it/s]\n"
     ]
    }
   ],
   "source": [
    "directory = '/work/scorreacardo_umass_edu/DeepSatGSD/data/processed/random_synthetic'  # Replace with the actual path to the directory\n",
    "prefix = 'GSD'  # Replace with the desired starting string\n",
    "\n",
    "for folder in os.listdir(directory):\n",
    "    if folder.startswith(prefix):\n",
    "        dir_path = os.path.join(directory, folder)\n",
    "        print(dir_path)\n",
    "        counter = 0\n",
    "        current_gsd = float(''.join(filter(str.isdigit, folder)))/100\n",
    "        percentage = 5  # Replace with the desired percentage\n",
    "        list_files = [f for f in os.listdir(dir_path)]\n",
    "        sample_size = int(len(list_files) * (percentage / 100.0))\n",
    "        #seed_value = 42  # Replace with your desired seed value\n",
    "        random.seed(seed_value)\n",
    "        sample_files = random.sample(list_files, sample_size)\n",
    "\n",
    "        for filename in tqdm(sample_files):\n",
    "            counter += 1\n",
    "            image_path = os.path.join(directory + \"/\" + folder, filename)\n",
    "            # Open the original image\n",
    "            with rasterio.open(image_path) as src:\n",
    "                # Read the image data\n",
    "                image_data = src.read()\n",
    "\n",
    "                # Calculate the resampling factors\n",
    "                desired_gsd = random.randint((current_gsd * 100) - 5, (current_gsd * 100) + 5)/100.0\n",
    "                resampling_factor = current_gsd / desired_gsd\n",
    "\n",
    "                # Resample the image for each desired GSD\n",
    "                # Compute the new image size based on the resampling factor\n",
    "                new_height = int(src.height * resampling_factor)\n",
    "                #print(f\"new height: {new_height}\")\n",
    "                new_width = int(src.width * resampling_factor)\n",
    "                #print(f\"new width: {new_width}\")\n",
    "\n",
    "                # Resample the image using the desired GSD\n",
    "                resampled_data = src.read(\n",
    "                    out_shape=(src.count, new_height, new_width),\n",
    "                    resampling=Resampling.bilinear\n",
    "                )\n",
    "\n",
    "                # Create a new TIF file name based on the desired GSD\n",
    "                new_image_path = f\"resampled_image.tif\"\n",
    "\n",
    "                # Update metadata for the resampled image\n",
    "                new_meta = src.meta.copy()\n",
    "                new_meta.update({\n",
    "                    'width': new_width,\n",
    "                    'height': new_height,\n",
    "                    #'transform': src.transform * src.transform.scale(pixel_factor, pixel_factor)\n",
    "                })\n",
    "\n",
    "            # Save the resampled image\n",
    "            with rasterio.open(new_image_path, 'w', **new_meta) as dst:\n",
    "                dst.write(resampled_data)\n",
    "            # Open the original image\n",
    "            with rasterio.open(new_image_path) as dst:\n",
    "                # Read the image data\n",
    "                image_data = dst.read()\n",
    "                new_gsd = desired_gsd\n",
    "                pixel_factor = current_gsd / new_gsd\n",
    "                new_height = int(dst.height / pixel_factor)\n",
    "                #print(f\"new height: {new_height}\")\n",
    "                new_width = int(dst.width / pixel_factor)\n",
    "                #print(f\"new width: {new_width}\")\n",
    "                # Resample the image using the desired GSD\n",
    "                new_resampled_data = dst.read(\n",
    "                    out_shape=(dst.count, new_height, new_width),\n",
    "                    resampling=Resampling.bilinear\n",
    "                )\n",
    "                \n",
    "                # Calculate the desired size\n",
    "                desired_size = (256, 256)\n",
    "                \n",
    "                # Resize the resampled_data array to the desired size\n",
    "                resampled_data_resized = resize(new_resampled_data, (new_resampled_data.shape[0],) + desired_size, mode='reflect', anti_aliasing=True)\n",
    "\n",
    "                # Update metadata for the resampled image\n",
    "                new_height = desired_size[0]\n",
    "                new_width = desired_size[1]\n",
    "                final_meta = dst.meta.copy()\n",
    "                final_meta.update({\n",
    "                    'width': new_width,\n",
    "                    'height': new_height,\n",
    "                    #'transform': rasterio.Affine(resampling_factor, 0, 0, 0, resampling_factor, 0)\n",
    "                })\n",
    "\n",
    "\n",
    "                # Create a new TIF file name based on the desired GSD\n",
    "                final_image_path = f\"/work/scorreacardo_umass_edu/DeepSatGSD/data/processed/random_synthetic/{folder}/random_{new_gsd}m_{filename[:-4]}.tif\"\n",
    "                tifffile.imsave(final_image_path, resampled_data_resized)"
   ]
  },
  {
   "cell_type": "code",
   "execution_count": null,
   "id": "0faf35c3-beb9-4045-98af-481825ed2973",
   "metadata": {},
   "outputs": [],
   "source": [
    "# Define the current GSD and desired GSD values\n",
    "directory = '/work/scorreacardo_umass_edu/DeepSatGSD/data/interim/GSD_50cm'\n",
    "current_gsd = 0.5  # meters per pixel\n",
    "\n",
    "#0.75m, 1m, 1.25m, 1.5m, and 2m\n",
    "desired_gsd_values = [0.80, 1.0, 1.5, 1.75, 2.0, 2.5, 3]  # meters per pixel\n",
    "dic_filename_gsd_values = {0.80:\"GSD_80cm\",\n",
    "                          1.0:\"GSD_100cm\",\n",
    "                          1.5:\"GSD_150cm\",\n",
    "                          1.75:\"GSD_175cm\",\n",
    "                          2.0:\"GSD_200cm\",\n",
    "                          2.5:\"GSD_250cm\",\n",
    "                          3:\"GSD_300cm\"}\n",
    "counter = 0\n",
    "for filename in os.listdir(directory):\n",
    "    counter += 1\n",
    "    print(f\"This is image number: {counter}\")\n",
    "    image_path = os.path.join(directory, filename)\n",
    "    # Open the original image\n",
    "    with rasterio.open(image_path) as src:\n",
    "        # Read the image data\n",
    "        image_data = src.read()\n",
    "\n",
    "        # Calculate the resampling factors\n",
    "        resampling_factors = [current_gsd / desired_gsd for desired_gsd in desired_gsd_values]\n",
    "\n",
    "        # Resample the image for each desired GSD\n",
    "        for i, factor in enumerate(resampling_factors):\n",
    "            # Compute the new image size based on the resampling factor\n",
    "            new_height = int(src.height * factor)\n",
    "            #print(f\"new height: {new_height}\")\n",
    "            new_width = int(src.width * factor)\n",
    "            #print(f\"new width: {new_width}\")\n",
    "\n",
    "            # Resample the image using the desired GSD\n",
    "            resampled_data = src.read(\n",
    "                out_shape=(src.count, new_height, new_width),\n",
    "                resampling=Resampling.bilinear\n",
    "            )\n",
    "            # Display the resampled image\n",
    "            plt.imshow(resampled_data.transpose(1, 2, 0))\n",
    "            plt.title(f\"Resampled Image: GSD = {desired_gsd_values[i]} meters/pixel\")\n",
    "            plt.show()\n",
    "\n",
    "            # Create a new TIF file name based on the desired GSD\n",
    "            new_image_path = f\"resampled_image_{new_gsd}m.tif\"\n",
    "\n",
    "            # Update metadata for the resampled image\n",
    "            new_meta = src.meta.copy()\n",
    "            new_meta.update({\n",
    "                'width': new_width,\n",
    "                'height': new_height,\n",
    "                #'transform': src.transform * src.transform.scale(pixel_factor, pixel_factor)\n",
    "            })\n",
    "\n",
    "            # Save the resampled image\n",
    "            with rasterio.open(new_image_path, 'w', **new_meta) as dst:\n",
    "                dst.write(resampled_data)\n",
    "            # Open the original image\n",
    "            with rasterio.open(new_image_path) as dst:\n",
    "                # Read the image data\n",
    "                image_data = dst.read()\n",
    "                new_gsd = desired_gsd_values[i]\n",
    "                pixel_factor = current_gsd / new_gsd\n",
    "                new_height = int(dst.height / pixel_factor)\n",
    "                print(f\"new height: {new_height}\")\n",
    "                new_width = int(dst.width / pixel_factor)\n",
    "                print(f\"new width: {new_width}\")\n",
    "                # Resample the image using the desired GSD\n",
    "                new_resampled_data = dst.read(\n",
    "                    out_shape=(dst.count, new_height, new_width),\n",
    "                    resampling=Resampling.bilinear\n",
    "                )\n",
    "                # if i == 0 or i==6:\n",
    "                # Display the resampled image\n",
    "                plt.imshow(new_resampled_data.transpose(1, 2, 0))\n",
    "                plt.title(f\"Resampled Image: GSD = {new_gsd} meters/pixel\")\n",
    "                plt.show()\n",
    "\n",
    "                # Create a new TIF file name based on the desired GSD\n",
    "                final_image_path = f\"/work/scorreacardo_umass_edu/DeepSatGSD/data/interim/{dic_filename_gsd_values[desired_gsd_values[i]]}/{filename[:-4]}_resampled_image_{new_gsd}m.tif\"\n",
    "                pdb.set_trace()\n",
    "                # Update metadata for the resampled image\n",
    "                final_meta = dst.meta.copy()\n",
    "                final_meta.update({\n",
    "                    'width': new_width,\n",
    "                    'height': new_height,\n",
    "                    #'transform': dst.transform * dst.transform.scale(pixel_factor, pixel_factor)\n",
    "                })\n",
    "                # Save the resampled image\n",
    "                with rasterio.open(final_image_path, 'w', **final_meta) as final_dst:\n",
    "                    final_dst.write(new_resampled_data)"
   ]
  }
 ],
 "metadata": {
  "kernelspec": {
   "display_name": "urbano2",
   "language": "python",
   "name": "urbano2"
  },
  "language_info": {
   "codemirror_mode": {
    "name": "ipython",
    "version": 3
   },
   "file_extension": ".py",
   "mimetype": "text/x-python",
   "name": "python",
   "nbconvert_exporter": "python",
   "pygments_lexer": "ipython3",
   "version": "3.9.12"
  }
 },
 "nbformat": 4,
 "nbformat_minor": 5
}
