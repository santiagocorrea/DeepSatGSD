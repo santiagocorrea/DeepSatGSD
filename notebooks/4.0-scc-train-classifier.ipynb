{
 "cells": [
  {
   "cell_type": "code",
   "execution_count": 1,
   "id": "48888b07-3815-4fff-86f0-92dbcaddc2f0",
   "metadata": {},
   "outputs": [
    {
     "name": "stderr",
     "output_type": "stream",
     "text": [
      "/work/scorreacardo_umass_edu/miniconda3/envs/urbano2/lib/python3.9/site-packages/tqdm/auto.py:22: TqdmWarning: IProgress not found. Please update jupyter and ipywidgets. See https://ipywidgets.readthedocs.io/en/stable/user_install.html\n",
      "  from .autonotebook import tqdm as notebook_tqdm\n"
     ]
    }
   ],
   "source": [
    "import torch\n",
    "import torch.nn as nn\n",
    "import torch.optim as optim\n",
    "import torchvision\n",
    "import rasterio\n",
    "import numpy as np\n",
    "from torchvision.io import read_image\n",
    "from torchvision.transforms import ToTensor, Normalize\n",
    "from torch.utils.data import DataLoader\n",
    "from torch.utils.data import Dataset\n",
    "from torch.utils.data.dataset import Subset\n",
    "from sklearn.metrics import classification_report\n",
    "import os\n",
    "import matplotlib.pyplot as plt\n",
    "from tqdm import tqdm\n",
    "tqdm.pandas()"
   ]
  },
  {
   "cell_type": "code",
   "execution_count": 2,
   "id": "49b0c755-1446-4591-a262-0cf917ad8f1e",
   "metadata": {},
   "outputs": [],
   "source": [
    "class SensorDataset(Dataset):\n",
    "    def __init__(self, root_dir, transform=None, max_black_pixels=0.4, max_white_pixels=0.4):\n",
    "        self.root_dir = root_dir\n",
    "        self.transform = transform\n",
    "        self.classes = sorted(os.listdir(root_dir))\n",
    "        self.filepaths = []\n",
    "        self.labels = []\n",
    "\n",
    "        for i, sensor_class in enumerate(self.classes):\n",
    "            class_dir = os.path.join(root_dir, sensor_class)\n",
    "            for filename in [f for f in os.listdir(class_dir) if f.startswith(\"row\")]:\n",
    "                filepath = os.path.join(class_dir, filename)\n",
    "                self.filepaths.append(filepath)\n",
    "                self.labels.append(i)\n",
    "                \n",
    "        # Prune the dataset based on black and white pixel percentages\n",
    "        self.prune_dataset(max_black_pixels, max_white_pixels)\n",
    "        # Calculate mean and standard deviation of the dataset\n",
    "        # self.mean, self.std = self.calculate_statistics()\n",
    "\n",
    "    def __len__(self):\n",
    "        return len(self.filepaths)\n",
    "\n",
    "    def __getitem__(self, index):\n",
    "        filepath = self.filepaths[index]\n",
    "        label = self.labels[index]\n",
    "\n",
    "        with rasterio.open(filepath, 'r') as img:\n",
    "            image = img.read().transpose(1, 2, 0)\n",
    "\n",
    "        if self.transform:\n",
    "            image = self.transform(image)\n",
    "\n",
    "        return image, label\n",
    "    \n",
    "    def prune_dataset(self, max_black_pixels, max_white_pixels):\n",
    "        pruned_filepaths = []\n",
    "        pruned_labels = []\n",
    "        channels_sum = np.zeros((3,))\n",
    "        channels_squared_sum = np.zeros((3,))\n",
    "\n",
    "        for filepath, label in tqdm(zip(self.filepaths, self.labels)):\n",
    "            with rasterio.open(filepath, 'r') as img:\n",
    "                image = img.read().transpose(1, 2, 0)  # Transpose to (H, W, C) (512,512,3)\n",
    "\n",
    "            # Calculate the percentage of black and white pixels\n",
    "            total_pixels = np.prod(image.shape)\n",
    "            black_pixels = np.sum(image == 0)\n",
    "            white_pixels = np.sum(image == 255)\n",
    "            black_pixel_percentage = black_pixels / total_pixels\n",
    "            white_pixel_percentage = white_pixels / total_pixels\n",
    "\n",
    "            # Prune the image if it falls outside the specified range\n",
    "            if black_pixel_percentage <= max_black_pixels and white_pixel_percentage <= max_white_pixels:\n",
    "                pruned_filepaths.append(filepath)\n",
    "                pruned_labels.append(label)\n",
    "                \n",
    "                channels_sum += np.sum(image, axis=(0, 1))\n",
    "                channels_squared_sum += np.sum(np.square(image), axis=(0, 1))\n",
    "                \n",
    "\n",
    "        self.filepaths = pruned_filepaths\n",
    "        self.labels = pruned_labels\n",
    "        num_samples = len(self.filepaths)\n",
    "        self.mean = channels_sum / (num_samples * image.shape[0] * image.shape[1])\n",
    "        variance = (channels_squared_sum / (num_samples * image.shape[0] * image.shape[1])) - np.square(self.mean)\n",
    "        variance = np.maximum(variance, 1e-8)  # Clip variance to a minimum value of epsilon\n",
    "        self.std = np.sqrt(variance)\n",
    "        \n",
    "        self.mean = self.mean.tolist()\n",
    "        self.std = self.std.tolist()\n",
    "        "
   ]
  },
  {
   "cell_type": "code",
   "execution_count": 4,
   "id": "6fcb95fe-b7da-43c8-a9b1-344fc2a72d18",
   "metadata": {},
   "outputs": [
    {
     "name": "stderr",
     "output_type": "stream",
     "text": [
      "41662it [18:26, 37.65it/s]\n"
     ]
    }
   ],
   "source": [
    "# Set the directory paths for train, validation, and test\n",
    "train_dir = \"/work/scorreacardo_umass_edu/DeepSatGSD/data/processed/train\"\n",
    "validation_dir = \"/work/scorreacardo_umass_edu/DeepSatGSD/data/processed/validation\"\n",
    "test_dir = \"/work/scorreacardo_umass_edu/DeepSatGSD/data/processed/test\"\n",
    "\n",
    "# Define the image transformation\n",
    "image_transform = ToTensor()  # Add other transformations as needed\n",
    "\n",
    "# # Create the datasets\n",
    "train_dataset = SensorDataset(train_dir, transform=image_transform)\n",
    "# validation_dataset = SensorDataset(validation_dir, transform=image_transform)\n",
    "# test_dataset = SensorDataset(test_dir, transform=image_transform)\n",
    "\n",
    "# # Create the data loaders for batching and shuffling\n",
    "train_loader = torch.utils.data.DataLoader(train_dataset, batch_size=32, shuffle=True)\n",
    "# validation_loader = torch.utils.data.DataLoader(validation_dataset, batch_size=32, shuffle=True)\n",
    "# test_loader = torch.utils.data.DataLoader(test_dataset, batch_size=32, shuffle=True)"
   ]
  },
  {
   "cell_type": "code",
   "execution_count": 5,
   "id": "2c064ff8-3d43-4c7e-bab1-e1fd4d531830",
   "metadata": {},
   "outputs": [
    {
     "name": "stderr",
     "output_type": "stream",
     "text": [
      "728it [02:04,  5.83it/s]"
     ]
    },
    {
     "name": "stdout",
     "output_type": "stream",
     "text": [
      "mean: [0.47193989157676697, 0.42456501722335815, 0.3104502260684967]\n",
      "std: [0.19043418765068054, 0.16198454797267914, 0.1568923145532608]\n"
     ]
    },
    {
     "name": "stderr",
     "output_type": "stream",
     "text": [
      "\n"
     ]
    }
   ],
   "source": [
    " #\n",
    "  # True standard deviation\n",
    "  #\n",
    "mean = 0.0\n",
    "meansq = 0.0\n",
    "count = 0\n",
    "import pdb\n",
    "for index, data in tqdm(enumerate(train_loader)):\n",
    "    #pdb.set_trace()\n",
    "    batch_size = data[0].shape[0]\n",
    "    data_batch = data[0]  # Concatenate tensors from the list\n",
    "    mean += data_batch.sum(dim=(0, 2, 3))\n",
    "    meansq += (data_batch **2).sum(dim=(0, 2, 3))\n",
    "    count += batch_size * data_batch .shape[2] * data_batch.shape[3]\n",
    "\n",
    "total_mean = mean / count\n",
    "total_var = (meansq / count) - (total_mean**2)\n",
    "total_std = torch.sqrt(total_var)\n",
    "print(\"mean: \" + str(total_mean.tolist()))\n",
    "print(\"std: \" + str(total_std.tolist()))"
   ]
  },
  {
   "cell_type": "markdown",
   "id": "d38f4d29-85b9-44d0-9637-52910d5494b9",
   "metadata": {},
   "source": [
    "### Let's start the training"
   ]
  },
  {
   "cell_type": "code",
   "execution_count": 3,
   "id": "8e9f2544-1992-4c2a-b680-97dab7fa8a3a",
   "metadata": {},
   "outputs": [
    {
     "name": "stderr",
     "output_type": "stream",
     "text": [
      "41662it [13:09, 52.79it/s]\n",
      "8037it [02:27, 54.61it/s]\n",
      "9828it [03:02, 53.81it/s]\n"
     ]
    }
   ],
   "source": [
    "# Set the device (GPU if available, otherwise CPU)\n",
    "device = torch.device(\"cuda\" if torch.cuda.is_available() else \"cpu\")\n",
    "\n",
    "# Set the training parameters\n",
    "batch_size = 16 #bajar\n",
    "num_epochs = 20\n",
    "learning_rate = 0.0001\n",
    "\n",
    "# Set the path to your train, validation, and test directories\n",
    "train_dir = \"/work/scorreacardo_umass_edu/DeepSatGSD/data/processed/train\"\n",
    "validation_dir = \"/work/scorreacardo_umass_edu/DeepSatGSD/data/processed/validation\"\n",
    "test_dir = \"/work/scorreacardo_umass_edu/DeepSatGSD/data/processed/test\"\n",
    "\n",
    "# Define the image transformations\n",
    "transform = torchvision.transforms.Compose([\n",
    "    ToTensor(),\n",
    "    Normalize([0.47193989157676697, 0.42456501722335815, 0.3104502260684967], \n",
    "              [0.19043418765068054, 0.16198454797267914, 0.1568923145532608])  # Normalize image tensors\n",
    "])\n",
    "\n",
    "# Create custom datasets\n",
    "train_dataset = SensorDataset(train_dir, transform=transform)\n",
    "validation_dataset = SensorDataset(validation_dir, transform=transform)\n",
    "test_dataset = SensorDataset(test_dir, transform=transform)\n",
    "\n",
    "# Create data loaders\n",
    "train_loader = DataLoader(train_dataset, batch_size=batch_size, shuffle=True)\n",
    "validation_loader = DataLoader(validation_dataset, batch_size=batch_size, shuffle=False)\n",
    "test_loader = DataLoader(test_dataset, batch_size=batch_size, shuffle=False)"
   ]
  },
  {
   "cell_type": "code",
   "execution_count": null,
   "id": "6a87f06b-0d3d-463c-af70-1951a0390407",
   "metadata": {},
   "outputs": [
    {
     "name": "stdout",
     "output_type": "stream",
     "text": [
      "Epoch [1/20], Loss: 0.032267555594444275\n",
      "Epoch [2/20], Loss: 2.841430187225342\n",
      "Epoch [3/20], Loss: 0.027360348030924797\n",
      "Epoch [4/20], Loss: 1.7523897886276245\n",
      "Epoch [5/20], Loss: 3.675311803817749\n",
      "Epoch [6/20], Loss: 1.2990950345993042\n",
      "Epoch [7/20], Loss: 0.00035614546504803\n",
      "Epoch [8/20], Loss: 0.00010859027679543942\n",
      "Epoch [9/20], Loss: 0.5381330251693726\n",
      "Epoch [10/20], Loss: 8.536701202392578\n",
      "Epoch [11/20], Loss: 2.9630210399627686\n",
      "Epoch [12/20], Loss: 1.119680404663086\n",
      "Epoch [13/20], Loss: 5.598230361938477\n",
      "Epoch [14/20], Loss: 2.560121774673462\n",
      "Epoch [15/20], Loss: 11.220598220825195\n",
      "Epoch [16/20], Loss: 0.020287055522203445\n",
      "Epoch [19/20], Loss: 6.100793361663818\n"
     ]
    }
   ],
   "source": [
    "# Load the pre-trained ResNet model\n",
    "model = torchvision.models.resnet18(pretrained=True)\n",
    "num_classes = len(train_dataset.classes)\n",
    "\n",
    "# Modify the last fully connected layer to match the number of classes\n",
    "model.fc = nn.Linear(model.fc.in_features, num_classes)\n",
    "\n",
    "# Move the model to the device\n",
    "model = model.to(device)\n",
    "\n",
    "# Define the loss function and optimizer\n",
    "criterion = nn.CrossEntropyLoss()\n",
    "optimizer = optim.Adam(model.parameters(), lr=learning_rate)\n",
    "\n",
    "learning_courve = []\n",
    "# Training loop\n",
    "for epoch in range(num_epochs):\n",
    "    model.train()  # Set the model to training mode\n",
    "\n",
    "    for images, labels in train_loader:\n",
    "        images = images.to(device)\n",
    "        labels = labels.to(device)\n",
    "\n",
    "        # Forward pass\n",
    "        outputs = model(images)\n",
    "        loss = criterion(outputs, labels)\n",
    "\n",
    "        # Backward pass and optimization\n",
    "        optimizer.zero_grad()\n",
    "        loss.backward()\n",
    "        optimizer.step()\n",
    "\n",
    "    # Print the training loss for each epoch\n",
    "    print(f\"Epoch [{epoch+1}/{num_epochs}], Loss: {loss.item()}\")\n",
    "    learning_courve.append([epoch+1, loss.item()])"
   ]
  },
  {
   "cell_type": "code",
   "execution_count": 9,
   "id": "447b45c8-d59b-42b8-9ed9-38c215211a41",
   "metadata": {},
   "outputs": [
    {
     "name": "stdout",
     "output_type": "stream",
     "text": [
      "Validation Accuracy: 0.9045721476510067\n",
      "Classification Report:\n",
      "              precision    recall  f1-score   support\n",
      "\n",
      "        GE01       0.85      0.90      0.88      1137\n",
      "        QB02       0.91      0.98      0.95      1258\n",
      "        WV02       0.95      0.91      0.93      1588\n",
      "   WV03_VNIR       0.87      0.79      0.83       785\n",
      "\n",
      "    accuracy                           0.90      4768\n",
      "   macro avg       0.90      0.89      0.89      4768\n",
      "weighted avg       0.91      0.90      0.90      4768\n",
      "\n",
      "Test Accuracy: 0.8547895057962172\n",
      "Classification Report:\n",
      "              precision    recall  f1-score   support\n",
      "\n",
      "        GE01       0.63      0.99      0.77      1403\n",
      "        QB02       0.95      0.98      0.97      1713\n",
      "        WV02       0.96      0.85      0.90      1201\n",
      "   WV03_VNIR       0.99      0.68      0.81      2239\n",
      "\n",
      "    accuracy                           0.85      6556\n",
      "   macro avg       0.88      0.87      0.86      6556\n",
      "weighted avg       0.90      0.85      0.86      6556\n",
      "\n"
     ]
    }
   ],
   "source": [
    "# Evaluation on validation set\n",
    "model.eval()  # Set the model to evaluation mode\n",
    "total_correct = 0\n",
    "total_samples = 0\n",
    "predicted_labels = []\n",
    "true_labels = []\n",
    "\n",
    "with torch.no_grad():\n",
    "    for images, labels in validation_loader:\n",
    "        images = images.to(device)\n",
    "        labels = labels.to(device)\n",
    "\n",
    "        outputs = model(images)\n",
    "        _, predicted = torch.max(outputs, 1)\n",
    "\n",
    "        total_samples += labels.size(0)\n",
    "        total_correct += (predicted == labels).sum().item()\n",
    "\n",
    "        predicted_labels.extend(predicted.tolist())\n",
    "        true_labels.extend(labels.tolist())\n",
    "\n",
    "validation_accuracy = total_correct / total_samples\n",
    "print(f\"Validation Accuracy: {validation_accuracy}\")\n",
    "\n",
    "# Compute additional performance metrics\n",
    "classification_metrics = classification_report(true_labels, predicted_labels, target_names=validation_dataset.classes)\n",
    "print(\"Classification Report:\")\n",
    "print(classification_metrics)\n",
    "\n",
    "# Evaluation on test set\n",
    "model.eval()  # Set the model to evaluation mode\n",
    "total_correct = 0\n",
    "total_samples = 0\n",
    "predicted_labels = []\n",
    "true_labels = []\n",
    "\n",
    "with torch.no_grad():\n",
    "    for images, labels in test_loader:\n",
    "        images = images.to(device)\n",
    "        labels = labels.to(device)\n",
    "\n",
    "        outputs = model(images)\n",
    "        _, predicted = torch.max(outputs, 1)\n",
    "\n",
    "        total_samples += labels.size(0)\n",
    "        total_correct += (predicted == labels).sum().item()\n",
    "\n",
    "        predicted_labels.extend(predicted.tolist())\n",
    "        true_labels.extend(labels.tolist())\n",
    "\n",
    "test_accuracy = total_correct / total_samples\n",
    "print(f\"Test Accuracy: {test_accuracy}\")\n",
    "\n",
    "# Compute additional performance metrics\n",
    "classification_metrics = classification_report(true_labels, predicted_labels, target_names=test_dataset.classes)\n",
    "print(\"Classification Report:\")\n",
    "print(classification_metrics)"
   ]
  },
  {
   "cell_type": "code",
   "execution_count": 10,
   "id": "f1e1034a-95f2-45b9-9404-e11b4717fde4",
   "metadata": {},
   "outputs": [
    {
     "data": {
      "image/png": "[encoded data removed]",
      "text/plain": [
       "<Figure size 720x576 with 2 Axes>"
      ]
     },
     "metadata": {
      "needs_background": "light"
     },
     "output_type": "display_data"
    }
   ],
   "source": [
    "from sklearn.metrics import confusion_matrix\n",
    "import seaborn as sns\n",
    "# Compute the confusion matrix\n",
    "confusion_mat = confusion_matrix(true_labels, predicted_labels)\n",
    "\n",
    "# Plot the confusion matrix using seaborn\n",
    "class_names = train_dataset.classes  # Assuming you have access to the class names\n",
    "plt.figure(figsize=(10, 8))\n",
    "sns.heatmap(confusion_mat, annot=True, fmt=\"d\", cmap=\"Blues\", xticklabels=class_names, yticklabels=class_names)\n",
    "plt.xlabel(\"Predicted Labels\")\n",
    "plt.ylabel(\"True Labels\")\n",
    "plt.title(\"Confusion Matrix\")\n",
    "plt.show()"
   ]
  },
  {
   "cell_type": "code",
   "execution_count": null,
   "id": "d413f2d5-e182-479b-85e3-fc54479c81bc",
   "metadata": {},
   "outputs": [],
   "source": []
  }
 ],
 "metadata": {
  "kernelspec": {
   "display_name": "urbano2",
   "language": "python",
   "name": "urbano2"
  },
  "language_info": {
   "codemirror_mode": {
    "name": "ipython",
    "version": 3
   },
   "file_extension": ".py",
   "mimetype": "text/x-python",
   "name": "python",
   "nbconvert_exporter": "python",
   "pygments_lexer": "ipython3",
   "version": "3.9.12"
  }
 },
 "nbformat": 4,
 "nbformat_minor": 5
}
